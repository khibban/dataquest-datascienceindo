{
 "cells": [
  {
   "cell_type": "code",
   "execution_count": 13,
   "id": "a000604d",
   "metadata": {},
   "outputs": [],
   "source": [
    "import warnings\n",
    "warnings.filterwarnings('ignore')\n",
    "import pandas as pd\n",
    "import numpy as np\n",
    "import matplotlib.pyplot as plt\n",
    "# import seaborn as sns\n",
    "from xgboost import XGBClassifier\n",
    "\n",
    "from sklearn.model_selection import (\n",
    "    train_test_split,\n",
    "    StratifiedKFold,\n",
    "    cross_val_score\n",
    ")\n",
    "from sklearn.metrics import roc_auc_score\n",
    "from sklearn.preprocessing import LabelEncoder\n",
    "\n",
    "import pandas as pd\n",
    "from sklearn.model_selection import train_test_split\n",
    "\n",
    "from sklearn.ensemble import (RandomForestClassifier, GradientBoostingClassifier, \n",
    "                            VotingClassifier)\n",
    "\n",
    "\n",
    "# Constants\n",
    "RANDOM_STATE = 42\n",
    "LABEL = 'berlangganan_deposito'\n"
   ]
  },
  {
   "cell_type": "code",
   "execution_count": 14,
   "id": "4cc1f139",
   "metadata": {},
   "outputs": [],
   "source": [
    "train = pd.read_csv('../training_dataset.csv')\n",
    "test = pd.read_csv('../validation_set.csv')\n",
    "\n",
    "X = train.drop(columns=[LABEL, 'customer_number', 'pulau'])\n",
    "y = train[LABEL]"
   ]
  },
  {
   "cell_type": "code",
   "execution_count": 15,
   "id": "0c629d63",
   "metadata": {},
   "outputs": [],
   "source": [
    "le = LabelEncoder()\n",
    "\n",
    "def feature_engineering(df):\n",
    "\n",
    "    df = df.copy()\n",
    "    \n",
    "    if 'hari_sejak_kontak_sebelumnya' in df.columns:\n",
    "        df['is hari_sejak_kontak_sebelumnya > 22'] = (df['hari_sejak_kontak_sebelumnya'] > 22).astype(int)\n",
    "    \n",
    "    df['total_kontak'] = df['jumlah_kontak_sebelumnya'] + df['jumlah_kontak_kampanye_ini']\n",
    "    df['rasio_kontak'] = df['jumlah_kontak_sebelumnya'] / df['total_kontak']\n",
    "    \n",
    "    df['is>=5100pekerja'] = (df['jumlah_pekerja'] > 5100).astype(int)\n",
    "    \n",
    "    if 'hari_sejak_kontak_sebelumnya' in df.columns:\n",
    "        df = df.drop(columns=['hari_sejak_kontak_sebelumnya'])\n",
    "        \n",
    "    return df"
   ]
  },
  {
   "cell_type": "code",
   "execution_count": 16,
   "id": "015eeabc",
   "metadata": {},
   "outputs": [],
   "source": [
    "X = feature_engineering(X)\n",
    "test = feature_engineering(test)"
   ]
  },
  {
   "cell_type": "code",
   "execution_count": 17,
   "id": "e6c01109",
   "metadata": {},
   "outputs": [],
   "source": [
    "encoders = {}\n",
    "\n",
    "# Encode categorical features\n",
    "categorical_cols = X.select_dtypes(include=['object']).columns\n",
    "\n",
    "for col in categorical_cols:\n",
    "    le = LabelEncoder()\n",
    "    X[col] = le.fit_transform(X[col])\n",
    "    test[col] = le.transform(test[col])  \n",
    "    encoders[col] = le \n"
   ]
  },
  {
   "cell_type": "code",
   "execution_count": 18,
   "id": "d5955352",
   "metadata": {},
   "outputs": [],
   "source": [
    "X_train, X_val, y_train, y_val = train_test_split(X, y, test_size=0.2, random_state=RANDOM_STATE, stratify=y)"
   ]
  },
  {
   "cell_type": "code",
   "execution_count": 19,
   "id": "be978957",
   "metadata": {},
   "outputs": [
    {
     "name": "stdout",
     "output_type": "stream",
     "text": [
      "ROC AUC Score: 0.7916\n"
     ]
    }
   ],
   "source": [
    "rf_model = RandomForestClassifier(\n",
    "    n_estimators=128,\n",
    "    max_depth=12,\n",
    "    min_samples_split=7,\n",
    "    min_samples_leaf=9,\n",
    "    max_features= 'sqrt',\n",
    "    criterion='entropy',\n",
    "    bootstrap=True,\n",
    "    class_weight='balanced',\n",
    "    random_state=RANDOM_STATE\n",
    ")\n",
    "\n",
    "rf_model.fit(X_train, y_train)\n",
    "\n",
    "y_pred_proba_rf = rf_model.predict_proba(X_val)[:, 1]\n",
    "roc_rf = roc_auc_score(y_val, y_pred_proba_rf)\n",
    "print(f\"ROC AUC Score: {roc_rf:.4f}\")\n"
   ]
  },
  {
   "cell_type": "code",
   "execution_count": 20,
   "id": "cff5cd08",
   "metadata": {},
   "outputs": [
    {
     "name": "stdout",
     "output_type": "stream",
     "text": [
      "ROC AUC Score: 0.7934\n"
     ]
    }
   ],
   "source": [
    "gb_model = GradientBoostingClassifier(\n",
    "    n_estimators=50,\n",
    "    learning_rate=0.006606055737608706,\n",
    "    max_depth=11,\n",
    "    subsample=0.8660093939561572,\n",
    "    max_features='log2',\n",
    "    min_samples_split=10,\n",
    "    min_samples_leaf=10,\n",
    "    random_state=RANDOM_STATE\n",
    ")\n",
    "\n",
    "gb_model.fit(X_train, y_train)\n",
    "\n",
    "y_pred_proba = gb_model.predict_proba(X_val)[:, 1]\n",
    "roc = roc_auc_score(y_val, y_pred_proba)\n",
    "print(f\"ROC AUC Score: {roc:.4f}\")"
   ]
  },
  {
   "cell_type": "code",
   "execution_count": 21,
   "id": "33766cce",
   "metadata": {},
   "outputs": [
    {
     "name": "stdout",
     "output_type": "stream",
     "text": [
      "ROC AUC Score: 0.7958\n"
     ]
    }
   ],
   "source": [
    "xgb_model = XGBClassifier(\n",
    "    n_estimators=145,\n",
    "    learning_rate=0.07743387797898427,\n",
    "    max_depth=12,\n",
    "    subsample=0.896841632989109,\n",
    "    colsample_bytree=0.6887680511951783,\n",
    "    min_child_weight=5,\n",
    "    gamma=2.6256061694934245,\n",
    "    reg_alpha=0.5548795607783858,\n",
    "    reg_lambda=0.7122696697444622,\n",
    "    random_state=42,\n",
    "    use_label_encoder=True,\n",
    "    eval_metric='logloss'\n",
    ")\n",
    "\n",
    "xgb_model.fit(X_train, y_train)\n",
    "\n",
    "y_pred_proba = xgb_model.predict_proba(X_val)[:, 1]\n",
    "roc = roc_auc_score(y_val, y_pred_proba)\n",
    "print(f\"ROC AUC Score: {roc:.4f}\")\n"
   ]
  },
  {
   "cell_type": "code",
   "execution_count": 22,
   "id": "f2361c7d",
   "metadata": {},
   "outputs": [
    {
     "name": "stdout",
     "output_type": "stream",
     "text": [
      "ROC AUC Score: 0.7930\n"
     ]
    }
   ],
   "source": [
    "voting_soft = VotingClassifier(\n",
    "    estimators=[\n",
    "        ('rf', rf_model),\n",
    "        ('gb', gb_model),\n",
    "        ('xgb', xgb_model)\n",
    "    ],\n",
    "    voting='soft'\n",
    ")\n",
    "\n",
    "voting_soft.fit(X_train, y_train)\n",
    "\n",
    "y_pred_proba_voting = voting_soft.predict_proba(X_val)[:, 1]\n",
    "roc_voting = roc_auc_score(y_val, y_pred_proba_voting)\n",
    "print(f\"ROC AUC Score: {roc_voting:.4f}\")"
   ]
  },
  {
   "cell_type": "code",
   "execution_count": 23,
   "id": "4826c6db",
   "metadata": {},
   "outputs": [
    {
     "name": "stdout",
     "output_type": "stream",
     "text": [
      "\n",
      "Evaluasi model default VotingSoft dengan 5-fold CV:\n",
      "Fold 1 AUC: 0.7799\n",
      "Fold 2 AUC: 0.7978\n",
      "Fold 3 AUC: 0.8076\n",
      "Fold 4 AUC: 0.7956\n",
      "Fold 5 AUC: 0.7926\n",
      "\n",
      "Rata-rata AUC: 0.7947\n",
      "Standar Deviasi AUC: 0.0090\n"
     ]
    }
   ],
   "source": [
    "# Validasi menggunakan cross-validation dengan scoring ROC AUC\n",
    "N_SPLITS = 5\n",
    "cv = StratifiedKFold(n_splits=N_SPLITS, shuffle=True, random_state=RANDOM_STATE)\n",
    "\n",
    "print(f\"\\nEvaluasi model default VotingSoft dengan {N_SPLITS}-fold CV:\")\n",
    "auc_scores = cross_val_score(voting_soft, X, y, cv=cv, scoring='roc_auc', n_jobs=-1)\n",
    "\n",
    "# Tampilkan hasil\n",
    "for i, score in enumerate(auc_scores):\n",
    "    print(f\"Fold {i+1} AUC: {score:.4f}\")\n",
    "\n",
    "print(f\"\\nRata-rata AUC: {auc_scores.mean():.4f}\")\n",
    "print(f\"Standar Deviasi AUC: {auc_scores.std():.4f}\")"
   ]
  },
  {
   "cell_type": "code",
   "execution_count": 24,
   "id": "f1313786",
   "metadata": {},
   "outputs": [],
   "source": [
    "pred = voting_soft.predict_proba(test[X.columns])[:, 1]\n",
    "# Save predictions to CSV\n",
    "submission = pd.DataFrame({\n",
    "    'customer_number': test['customer_number'],\n",
    "    'berlangganan_deposito': pred\n",
    "})\n",
    "submission.to_csv('submission3.csv', index=False)"
   ]
  }
 ],
 "metadata": {
  "kernelspec": {
   "display_name": "dataquest",
   "language": "python",
   "name": "python3"
  },
  "language_info": {
   "codemirror_mode": {
    "name": "ipython",
    "version": 3
   },
   "file_extension": ".py",
   "mimetype": "text/x-python",
   "name": "python",
   "nbconvert_exporter": "python",
   "pygments_lexer": "ipython3",
   "version": "3.12.10"
  }
 },
 "nbformat": 4,
 "nbformat_minor": 5
}
